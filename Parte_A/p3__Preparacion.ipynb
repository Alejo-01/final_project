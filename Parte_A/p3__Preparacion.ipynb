{
 "cells": [
  {
   "cell_type": "markdown",
   "metadata": {},
   "source": [
    "# Parte A.p3"
   ]
  },
  {
   "cell_type": "markdown",
   "metadata": {},
   "source": [
    "# 1. Configuraciones iniciales"
   ]
  },
  {
   "cell_type": "markdown",
   "metadata": {},
   "source": [
    "## 1.1 Import de librerias"
   ]
  },
  {
   "cell_type": "code",
   "execution_count": 74,
   "metadata": {},
   "outputs": [],
   "source": [
    "import pandas as pd\n",
    "from pandas import json_normalize\n",
    "import matplotlib.pyplot as plt\n",
    "import seaborn as sns\n",
    "import numpy as np\n",
    "import pickle\n",
    "from funpymodeling import status"
   ]
  },
  {
   "cell_type": "code",
   "execution_count": 75,
   "metadata": {},
   "outputs": [],
   "source": [
    "pd.set_option('display.max_columns', None)"
   ]
  },
  {
   "cell_type": "markdown",
   "metadata": {},
   "source": [
    "## 1.2) Lectura de datos"
   ]
  },
  {
   "cell_type": "code",
   "execution_count": 76,
   "metadata": {},
   "outputs": [],
   "source": [
    "data = pd.read_csv('../data/customer_dataset.csv', sep=',')"
   ]
  },
  {
   "cell_type": "code",
   "execution_count": 77,
   "metadata": {},
   "outputs": [
    {
     "data": {
      "text/html": [
       "<div>\n",
       "<style scoped>\n",
       "    .dataframe tbody tr th:only-of-type {\n",
       "        vertical-align: middle;\n",
       "    }\n",
       "\n",
       "    .dataframe tbody tr th {\n",
       "        vertical-align: top;\n",
       "    }\n",
       "\n",
       "    .dataframe thead th {\n",
       "        text-align: right;\n",
       "    }\n",
       "</style>\n",
       "<table border=\"1\" class=\"dataframe\">\n",
       "  <thead>\n",
       "    <tr style=\"text-align: right;\">\n",
       "      <th></th>\n",
       "      <th>orderAmount</th>\n",
       "      <th>orderState</th>\n",
       "      <th>paymentMethodRegistrationFailure</th>\n",
       "      <th>paymentMethodType</th>\n",
       "      <th>paymentMethodProvider</th>\n",
       "      <th>paymentMethodIssuer</th>\n",
       "      <th>transactionAmount</th>\n",
       "      <th>transactionFailed</th>\n",
       "      <th>fraudulent</th>\n",
       "      <th>emailDomain</th>\n",
       "      <th>emailProvider</th>\n",
       "      <th>customerIPAdress_checked</th>\n",
       "      <th>sameCity</th>\n",
       "    </tr>\n",
       "  </thead>\n",
       "  <tbody>\n",
       "    <tr>\n",
       "      <th>0</th>\n",
       "      <td>18.0</td>\n",
       "      <td>pending</td>\n",
       "      <td>True</td>\n",
       "      <td>card</td>\n",
       "      <td>JCB 16 digit</td>\n",
       "      <td>Citizens First Banks</td>\n",
       "      <td>18</td>\n",
       "      <td>False</td>\n",
       "      <td>False</td>\n",
       "      <td>com</td>\n",
       "      <td>yahoo</td>\n",
       "      <td>short_address</td>\n",
       "      <td>yes</td>\n",
       "    </tr>\n",
       "    <tr>\n",
       "      <th>1</th>\n",
       "      <td>26.0</td>\n",
       "      <td>fulfilled</td>\n",
       "      <td>True</td>\n",
       "      <td>bitcoin</td>\n",
       "      <td>VISA 16 digit</td>\n",
       "      <td>Solace Banks</td>\n",
       "      <td>26</td>\n",
       "      <td>False</td>\n",
       "      <td>False</td>\n",
       "      <td>com</td>\n",
       "      <td>yahoo</td>\n",
       "      <td>short_address</td>\n",
       "      <td>no</td>\n",
       "    </tr>\n",
       "    <tr>\n",
       "      <th>2</th>\n",
       "      <td>45.0</td>\n",
       "      <td>fulfilled</td>\n",
       "      <td>False</td>\n",
       "      <td>card</td>\n",
       "      <td>VISA 16 digit</td>\n",
       "      <td>Vertex Bancorp</td>\n",
       "      <td>45</td>\n",
       "      <td>False</td>\n",
       "      <td>True</td>\n",
       "      <td>com</td>\n",
       "      <td>yahoo</td>\n",
       "      <td>long_address</td>\n",
       "      <td>no</td>\n",
       "    </tr>\n",
       "    <tr>\n",
       "      <th>3</th>\n",
       "      <td>23.0</td>\n",
       "      <td>fulfilled</td>\n",
       "      <td>False</td>\n",
       "      <td>card</td>\n",
       "      <td>Diners Club / Carte Blanche</td>\n",
       "      <td>His Majesty Bank Corp.</td>\n",
       "      <td>23</td>\n",
       "      <td>False</td>\n",
       "      <td>True</td>\n",
       "      <td>com</td>\n",
       "      <td>yahoo</td>\n",
       "      <td>long_address</td>\n",
       "      <td>no</td>\n",
       "    </tr>\n",
       "    <tr>\n",
       "      <th>4</th>\n",
       "      <td>43.0</td>\n",
       "      <td>fulfilled</td>\n",
       "      <td>False</td>\n",
       "      <td>card</td>\n",
       "      <td>Mastercard</td>\n",
       "      <td>Vertex Bancorp</td>\n",
       "      <td>43</td>\n",
       "      <td>True</td>\n",
       "      <td>True</td>\n",
       "      <td>com</td>\n",
       "      <td>other</td>\n",
       "      <td>short_address</td>\n",
       "      <td>no</td>\n",
       "    </tr>\n",
       "  </tbody>\n",
       "</table>\n",
       "</div>"
      ],
      "text/plain": [
       "   orderAmount orderState paymentMethodRegistrationFailure paymentMethodType  \\\n",
       "0         18.0    pending                             True              card   \n",
       "1         26.0  fulfilled                             True           bitcoin   \n",
       "2         45.0  fulfilled                            False              card   \n",
       "3         23.0  fulfilled                            False              card   \n",
       "4         43.0  fulfilled                            False              card   \n",
       "\n",
       "         paymentMethodProvider     paymentMethodIssuer  transactionAmount  \\\n",
       "0                 JCB 16 digit    Citizens First Banks                 18   \n",
       "1                VISA 16 digit            Solace Banks                 26   \n",
       "2                VISA 16 digit          Vertex Bancorp                 45   \n",
       "3  Diners Club / Carte Blanche  His Majesty Bank Corp.                 23   \n",
       "4                   Mastercard          Vertex Bancorp                 43   \n",
       "\n",
       "   transactionFailed  fraudulent emailDomain emailProvider  \\\n",
       "0              False       False         com         yahoo   \n",
       "1              False       False         com         yahoo   \n",
       "2              False        True         com         yahoo   \n",
       "3              False        True         com         yahoo   \n",
       "4               True        True         com         other   \n",
       "\n",
       "  customerIPAdress_checked sameCity  \n",
       "0            short_address      yes  \n",
       "1            short_address       no  \n",
       "2             long_address       no  \n",
       "3             long_address       no  \n",
       "4            short_address       no  "
      ]
     },
     "execution_count": 77,
     "metadata": {},
     "output_type": "execute_result"
    }
   ],
   "source": [
    "data.head()"
   ]
  },
  {
   "cell_type": "markdown",
   "metadata": {},
   "source": [
    "# 2) Discretización de variables"
   ]
  },
  {
   "cell_type": "markdown",
   "metadata": {},
   "source": [
    "## 2.1) Misma Frecuencia y rango"
   ]
  },
  {
   "cell_type": "code",
   "execution_count": 78,
   "metadata": {},
   "outputs": [],
   "source": [
    "tryout_data = data.copy()"
   ]
  },
  {
   "cell_type": "code",
   "execution_count": 79,
   "metadata": {},
   "outputs": [],
   "source": [
    "# orderAmount\n",
    "\n",
    "data['orderAmount'], saved_bins_order = pd.qcut(data['orderAmount'], q=5, duplicates='drop', retbins=True)\n",
    "\n",
    "with open('../data/saved_bins_order.pickle', 'wb') as handle:\n",
    "    pickle.dump(saved_bins_order, handle, protocol= pickle.HIGHEST_PROTOCOL)"
   ]
  },
  {
   "cell_type": "code",
   "execution_count": 80,
   "metadata": {},
   "outputs": [],
   "source": [
    "# transactionAmount\n",
    "\n",
    "data['transactionAmount'], saved_bins_transaction = pd.qcut(data['transactionAmount'], q=4, duplicates='drop', retbins=True)\n",
    "\n",
    "with open('../data/saved_bins_transaction.pickle', 'wb') as handle:\n",
    "    pickle.dump(saved_bins_transaction, handle, protocol= pickle.HIGHEST_PROTOCOL)"
   ]
  },
  {
   "cell_type": "code",
   "execution_count": 81,
   "metadata": {},
   "outputs": [],
   "source": [
    "with open('../data/saved_bins_order.pickle', 'rb') as handle:\n",
    "    new_saved_bins_order = pickle.load(handle)\n",
    "\n",
    "with open('../data/saved_bins_transaction.pickle', 'rb') as handle:\n",
    "    new_saved_bins_transaction = pickle.load(handle)"
   ]
  },
  {
   "cell_type": "code",
   "execution_count": 82,
   "metadata": {},
   "outputs": [
    {
     "data": {
      "text/html": [
       "<div>\n",
       "<style scoped>\n",
       "    .dataframe tbody tr th:only-of-type {\n",
       "        vertical-align: middle;\n",
       "    }\n",
       "\n",
       "    .dataframe tbody tr th {\n",
       "        vertical-align: top;\n",
       "    }\n",
       "\n",
       "    .dataframe thead th {\n",
       "        text-align: right;\n",
       "    }\n",
       "</style>\n",
       "<table border=\"1\" class=\"dataframe\">\n",
       "  <thead>\n",
       "    <tr style=\"text-align: right;\">\n",
       "      <th></th>\n",
       "      <th>orderAmount</th>\n",
       "      <th>orderState</th>\n",
       "      <th>paymentMethodRegistrationFailure</th>\n",
       "      <th>paymentMethodType</th>\n",
       "      <th>paymentMethodProvider</th>\n",
       "      <th>paymentMethodIssuer</th>\n",
       "      <th>transactionAmount</th>\n",
       "      <th>transactionFailed</th>\n",
       "      <th>fraudulent</th>\n",
       "      <th>emailDomain</th>\n",
       "      <th>emailProvider</th>\n",
       "      <th>customerIPAdress_checked</th>\n",
       "      <th>sameCity</th>\n",
       "    </tr>\n",
       "  </thead>\n",
       "  <tbody>\n",
       "    <tr>\n",
       "      <th>0</th>\n",
       "      <td>(9.999, 18.4]</td>\n",
       "      <td>pending</td>\n",
       "      <td>True</td>\n",
       "      <td>card</td>\n",
       "      <td>JCB 16 digit</td>\n",
       "      <td>Citizens First Banks</td>\n",
       "      <td>18</td>\n",
       "      <td>False</td>\n",
       "      <td>False</td>\n",
       "      <td>com</td>\n",
       "      <td>yahoo</td>\n",
       "      <td>short_address</td>\n",
       "      <td>yes</td>\n",
       "    </tr>\n",
       "    <tr>\n",
       "      <th>1</th>\n",
       "      <td>(18.4, 30.0]</td>\n",
       "      <td>fulfilled</td>\n",
       "      <td>True</td>\n",
       "      <td>bitcoin</td>\n",
       "      <td>VISA 16 digit</td>\n",
       "      <td>Solace Banks</td>\n",
       "      <td>26</td>\n",
       "      <td>False</td>\n",
       "      <td>False</td>\n",
       "      <td>com</td>\n",
       "      <td>yahoo</td>\n",
       "      <td>short_address</td>\n",
       "      <td>no</td>\n",
       "    </tr>\n",
       "    <tr>\n",
       "      <th>2</th>\n",
       "      <td>(39.0, 47.0]</td>\n",
       "      <td>fulfilled</td>\n",
       "      <td>False</td>\n",
       "      <td>card</td>\n",
       "      <td>VISA 16 digit</td>\n",
       "      <td>Vertex Bancorp</td>\n",
       "      <td>45</td>\n",
       "      <td>False</td>\n",
       "      <td>True</td>\n",
       "      <td>com</td>\n",
       "      <td>yahoo</td>\n",
       "      <td>long_address</td>\n",
       "      <td>no</td>\n",
       "    </tr>\n",
       "    <tr>\n",
       "      <th>3</th>\n",
       "      <td>(18.4, 30.0]</td>\n",
       "      <td>fulfilled</td>\n",
       "      <td>False</td>\n",
       "      <td>card</td>\n",
       "      <td>Diners Club / Carte Blanche</td>\n",
       "      <td>His Majesty Bank Corp.</td>\n",
       "      <td>23</td>\n",
       "      <td>False</td>\n",
       "      <td>True</td>\n",
       "      <td>com</td>\n",
       "      <td>yahoo</td>\n",
       "      <td>long_address</td>\n",
       "      <td>no</td>\n",
       "    </tr>\n",
       "    <tr>\n",
       "      <th>4</th>\n",
       "      <td>(39.0, 47.0]</td>\n",
       "      <td>fulfilled</td>\n",
       "      <td>False</td>\n",
       "      <td>card</td>\n",
       "      <td>Mastercard</td>\n",
       "      <td>Vertex Bancorp</td>\n",
       "      <td>43</td>\n",
       "      <td>True</td>\n",
       "      <td>True</td>\n",
       "      <td>com</td>\n",
       "      <td>other</td>\n",
       "      <td>short_address</td>\n",
       "      <td>no</td>\n",
       "    </tr>\n",
       "  </tbody>\n",
       "</table>\n",
       "</div>"
      ],
      "text/plain": [
       "     orderAmount orderState paymentMethodRegistrationFailure  \\\n",
       "0  (9.999, 18.4]    pending                             True   \n",
       "1   (18.4, 30.0]  fulfilled                             True   \n",
       "2   (39.0, 47.0]  fulfilled                            False   \n",
       "3   (18.4, 30.0]  fulfilled                            False   \n",
       "4   (39.0, 47.0]  fulfilled                            False   \n",
       "\n",
       "  paymentMethodType        paymentMethodProvider     paymentMethodIssuer  \\\n",
       "0              card                 JCB 16 digit    Citizens First Banks   \n",
       "1           bitcoin                VISA 16 digit            Solace Banks   \n",
       "2              card                VISA 16 digit          Vertex Bancorp   \n",
       "3              card  Diners Club / Carte Blanche  His Majesty Bank Corp.   \n",
       "4              card                   Mastercard          Vertex Bancorp   \n",
       "\n",
       "   transactionAmount  transactionFailed  fraudulent emailDomain emailProvider  \\\n",
       "0                 18              False       False         com         yahoo   \n",
       "1                 26              False       False         com         yahoo   \n",
       "2                 45              False        True         com         yahoo   \n",
       "3                 23              False        True         com         yahoo   \n",
       "4                 43               True        True         com         other   \n",
       "\n",
       "  customerIPAdress_checked sameCity  \n",
       "0            short_address      yes  \n",
       "1            short_address       no  \n",
       "2             long_address       no  \n",
       "3             long_address       no  \n",
       "4            short_address       no  "
      ]
     },
     "execution_count": 82,
     "metadata": {},
     "output_type": "execute_result"
    }
   ],
   "source": [
    "tryout_data['orderAmount'] = pd.cut(\n",
    "    tryout_data['orderAmount'],\n",
    "    bins = new_saved_bins_order,\n",
    "    include_lowest= True\n",
    ")\n",
    "\n",
    "tryout_data.head()"
   ]
  },
  {
   "cell_type": "markdown",
   "metadata": {},
   "source": [
    "# 3) Preaparación de datos"
   ]
  },
  {
   "cell_type": "markdown",
   "metadata": {},
   "source": [
    "## 3.1) Interpretar valores"
   ]
  },
  {
   "cell_type": "markdown",
   "metadata": {},
   "source": [
    "Comenzamos con paymentMethodIssuer"
   ]
  },
  {
   "cell_type": "code",
   "execution_count": 83,
   "metadata": {},
   "outputs": [
    {
     "data": {
      "text/plain": [
       "paymentMethodIssuer\n",
       "Her Majesty Trust           43\n",
       "Vertex Bancorp              37\n",
       "Fountain Financial Inc.     35\n",
       "His Majesty Bank Corp.      33\n",
       "Bastion Banks               29\n",
       "Bulwark Trust Corp.         29\n",
       "Citizens First Banks        28\n",
       "Grand Credit Corporation    27\n",
       "Solace Banks                27\n",
       "Rose Bancshares             25\n",
       "B                            7\n",
       "e                            5\n",
       "c                            4\n",
       "r                            3\n",
       "                             2\n",
       "n                            2\n",
       "x                            2\n",
       "o                            2\n",
       "a                            1\n",
       "p                            1\n",
       "Name: count, dtype: int64"
      ]
     },
     "execution_count": 83,
     "metadata": {},
     "output_type": "execute_result"
    }
   ],
   "source": [
    "data['paymentMethodIssuer'].value_counts()"
   ]
  },
  {
   "cell_type": "markdown",
   "metadata": {},
   "source": [
    "Se van a reemplazar los metodos de pago extraños por 'weird'"
   ]
  },
  {
   "cell_type": "code",
   "execution_count": 84,
   "metadata": {},
   "outputs": [],
   "source": [
    "weird_payment_method = [\"B\", \"e\", \"c\", \"r\", \" \", \"n\", \"x\", \"o\", \"a\", \"p\"]\n",
    "\n",
    "for pay in weird_payment_method:\n",
    "    data['paymentMethodIssuer'] = data['paymentMethodIssuer'].replace(pay, 'weird')"
   ]
  },
  {
   "cell_type": "code",
   "execution_count": 85,
   "metadata": {},
   "outputs": [
    {
     "data": {
      "text/plain": [
       "paymentMethodIssuer\n",
       "Her Majesty Trust           43\n",
       "Vertex Bancorp              37\n",
       "Fountain Financial Inc.     35\n",
       "His Majesty Bank Corp.      33\n",
       "Bastion Banks               29\n",
       "weird                       29\n",
       "Bulwark Trust Corp.         29\n",
       "Citizens First Banks        28\n",
       "Solace Banks                27\n",
       "Grand Credit Corporation    27\n",
       "Rose Bancshares             25\n",
       "Name: count, dtype: int64"
      ]
     },
     "execution_count": 85,
     "metadata": {},
     "output_type": "execute_result"
    }
   ],
   "source": [
    "data['paymentMethodIssuer'].value_counts()"
   ]
  },
  {
   "cell_type": "markdown",
   "metadata": {},
   "source": [
    "Seguimos con paymentMethodProvider"
   ]
  },
  {
   "cell_type": "code",
   "execution_count": 86,
   "metadata": {},
   "outputs": [
    {
     "data": {
      "text/plain": [
       "paymentMethodProvider\n",
       "JCB 16 digit                   65\n",
       "VISA 16 digit                  57\n",
       "Voyager                        36\n",
       "Diners Club / Carte Blanche    34\n",
       "Maestro                        32\n",
       "VISA 13 digit                  32\n",
       "Discover                       25\n",
       "American Express               22\n",
       "JCB 15 digit                   20\n",
       "Mastercard                     19\n",
       "Name: count, dtype: int64"
      ]
     },
     "execution_count": 86,
     "metadata": {},
     "output_type": "execute_result"
    }
   ],
   "source": [
    "data['paymentMethodProvider'].value_counts()"
   ]
  },
  {
   "cell_type": "markdown",
   "metadata": {},
   "source": [
    "Seguimos con paymentMethodType"
   ]
  },
  {
   "cell_type": "code",
   "execution_count": 87,
   "metadata": {},
   "outputs": [
    {
     "data": {
      "text/plain": [
       "paymentMethodType\n",
       "card         242\n",
       "apple pay     36\n",
       "paypal        36\n",
       "bitcoin       28\n",
       "Name: count, dtype: int64"
      ]
     },
     "execution_count": 87,
     "metadata": {},
     "output_type": "execute_result"
    }
   ],
   "source": [
    "data['paymentMethodType'].value_counts()"
   ]
  },
  {
   "cell_type": "code",
   "execution_count": 88,
   "metadata": {},
   "outputs": [
    {
     "data": {
      "text/html": [
       "<div>\n",
       "<style scoped>\n",
       "    .dataframe tbody tr th:only-of-type {\n",
       "        vertical-align: middle;\n",
       "    }\n",
       "\n",
       "    .dataframe tbody tr th {\n",
       "        vertical-align: top;\n",
       "    }\n",
       "\n",
       "    .dataframe thead th {\n",
       "        text-align: right;\n",
       "    }\n",
       "</style>\n",
       "<table border=\"1\" class=\"dataframe\">\n",
       "  <thead>\n",
       "    <tr style=\"text-align: right;\">\n",
       "      <th></th>\n",
       "      <th>variable</th>\n",
       "      <th>q_nan</th>\n",
       "      <th>p_nan</th>\n",
       "      <th>q_zeros</th>\n",
       "      <th>p_zeros</th>\n",
       "      <th>unique</th>\n",
       "      <th>type</th>\n",
       "    </tr>\n",
       "  </thead>\n",
       "  <tbody>\n",
       "    <tr>\n",
       "      <th>0</th>\n",
       "      <td>orderAmount</td>\n",
       "      <td>341</td>\n",
       "      <td>0.416361</td>\n",
       "      <td>0</td>\n",
       "      <td>0.000000</td>\n",
       "      <td>5</td>\n",
       "      <td>category</td>\n",
       "    </tr>\n",
       "    <tr>\n",
       "      <th>1</th>\n",
       "      <td>orderState</td>\n",
       "      <td>341</td>\n",
       "      <td>0.416361</td>\n",
       "      <td>0</td>\n",
       "      <td>0.000000</td>\n",
       "      <td>3</td>\n",
       "      <td>object</td>\n",
       "    </tr>\n",
       "    <tr>\n",
       "      <th>2</th>\n",
       "      <td>paymentMethodRegistrationFailure</td>\n",
       "      <td>477</td>\n",
       "      <td>0.582418</td>\n",
       "      <td>302</td>\n",
       "      <td>0.368742</td>\n",
       "      <td>2</td>\n",
       "      <td>object</td>\n",
       "    </tr>\n",
       "    <tr>\n",
       "      <th>3</th>\n",
       "      <td>paymentMethodType</td>\n",
       "      <td>477</td>\n",
       "      <td>0.582418</td>\n",
       "      <td>0</td>\n",
       "      <td>0.000000</td>\n",
       "      <td>4</td>\n",
       "      <td>object</td>\n",
       "    </tr>\n",
       "    <tr>\n",
       "      <th>4</th>\n",
       "      <td>paymentMethodProvider</td>\n",
       "      <td>477</td>\n",
       "      <td>0.582418</td>\n",
       "      <td>0</td>\n",
       "      <td>0.000000</td>\n",
       "      <td>10</td>\n",
       "      <td>object</td>\n",
       "    </tr>\n",
       "    <tr>\n",
       "      <th>5</th>\n",
       "      <td>paymentMethodIssuer</td>\n",
       "      <td>477</td>\n",
       "      <td>0.582418</td>\n",
       "      <td>0</td>\n",
       "      <td>0.000000</td>\n",
       "      <td>11</td>\n",
       "      <td>object</td>\n",
       "    </tr>\n",
       "    <tr>\n",
       "      <th>6</th>\n",
       "      <td>transactionAmount</td>\n",
       "      <td>0</td>\n",
       "      <td>0.000000</td>\n",
       "      <td>0</td>\n",
       "      <td>0.000000</td>\n",
       "      <td>4</td>\n",
       "      <td>category</td>\n",
       "    </tr>\n",
       "    <tr>\n",
       "      <th>7</th>\n",
       "      <td>transactionFailed</td>\n",
       "      <td>0</td>\n",
       "      <td>0.000000</td>\n",
       "      <td>609</td>\n",
       "      <td>0.743590</td>\n",
       "      <td>2</td>\n",
       "      <td>bool</td>\n",
       "    </tr>\n",
       "    <tr>\n",
       "      <th>8</th>\n",
       "      <td>fraudulent</td>\n",
       "      <td>0</td>\n",
       "      <td>0.000000</td>\n",
       "      <td>366</td>\n",
       "      <td>0.446886</td>\n",
       "      <td>2</td>\n",
       "      <td>bool</td>\n",
       "    </tr>\n",
       "    <tr>\n",
       "      <th>9</th>\n",
       "      <td>emailDomain</td>\n",
       "      <td>0</td>\n",
       "      <td>0.000000</td>\n",
       "      <td>0</td>\n",
       "      <td>0.000000</td>\n",
       "      <td>6</td>\n",
       "      <td>object</td>\n",
       "    </tr>\n",
       "    <tr>\n",
       "      <th>10</th>\n",
       "      <td>emailProvider</td>\n",
       "      <td>0</td>\n",
       "      <td>0.000000</td>\n",
       "      <td>0</td>\n",
       "      <td>0.000000</td>\n",
       "      <td>5</td>\n",
       "      <td>object</td>\n",
       "    </tr>\n",
       "    <tr>\n",
       "      <th>11</th>\n",
       "      <td>customerIPAdress_checked</td>\n",
       "      <td>0</td>\n",
       "      <td>0.000000</td>\n",
       "      <td>0</td>\n",
       "      <td>0.000000</td>\n",
       "      <td>2</td>\n",
       "      <td>object</td>\n",
       "    </tr>\n",
       "    <tr>\n",
       "      <th>12</th>\n",
       "      <td>sameCity</td>\n",
       "      <td>0</td>\n",
       "      <td>0.000000</td>\n",
       "      <td>0</td>\n",
       "      <td>0.000000</td>\n",
       "      <td>3</td>\n",
       "      <td>object</td>\n",
       "    </tr>\n",
       "  </tbody>\n",
       "</table>\n",
       "</div>"
      ],
      "text/plain": [
       "                            variable  q_nan     p_nan  q_zeros   p_zeros  \\\n",
       "0                        orderAmount    341  0.416361        0  0.000000   \n",
       "1                         orderState    341  0.416361        0  0.000000   \n",
       "2   paymentMethodRegistrationFailure    477  0.582418      302  0.368742   \n",
       "3                  paymentMethodType    477  0.582418        0  0.000000   \n",
       "4              paymentMethodProvider    477  0.582418        0  0.000000   \n",
       "5                paymentMethodIssuer    477  0.582418        0  0.000000   \n",
       "6                  transactionAmount      0  0.000000        0  0.000000   \n",
       "7                  transactionFailed      0  0.000000      609  0.743590   \n",
       "8                         fraudulent      0  0.000000      366  0.446886   \n",
       "9                        emailDomain      0  0.000000        0  0.000000   \n",
       "10                     emailProvider      0  0.000000        0  0.000000   \n",
       "11          customerIPAdress_checked      0  0.000000        0  0.000000   \n",
       "12                          sameCity      0  0.000000        0  0.000000   \n",
       "\n",
       "    unique      type  \n",
       "0        5  category  \n",
       "1        3    object  \n",
       "2        2    object  \n",
       "3        4    object  \n",
       "4       10    object  \n",
       "5       11    object  \n",
       "6        4  category  \n",
       "7        2      bool  \n",
       "8        2      bool  \n",
       "9        6    object  \n",
       "10       5    object  \n",
       "11       2    object  \n",
       "12       3    object  "
      ]
     },
     "execution_count": 88,
     "metadata": {},
     "output_type": "execute_result"
    }
   ],
   "source": [
    "status(data)"
   ]
  },
  {
   "cell_type": "markdown",
   "metadata": {},
   "source": [
    "No va a ser necesario hacer un semaforo en fraudulent ya que le asignamos el fraudulent de los clientes a las transacciones, con el objetivo de tener un dataset completo de casos y posteriormente eliminando la información de los clientes."
   ]
  },
  {
   "cell_type": "markdown",
   "metadata": {},
   "source": [
    "# 4) Datos faltantes (categoricos)"
   ]
  },
  {
   "cell_type": "markdown",
   "metadata": {},
   "source": [
    "En este caso es orderAmount la columna a tratar"
   ]
  },
  {
   "cell_type": "code",
   "execution_count": 89,
   "metadata": {},
   "outputs": [
    {
     "data": {
      "text/plain": [
       "orderAmount\n",
       "(30.0, 39.0]     98\n",
       "(39.0, 47.0]     97\n",
       "(9.999, 18.4]    96\n",
       "(18.4, 30.0]     96\n",
       "(47.0, 353.0]    91\n",
       "Name: count, dtype: int64"
      ]
     },
     "execution_count": 89,
     "metadata": {},
     "output_type": "execute_result"
    }
   ],
   "source": [
    "data['orderAmount'].value_counts()"
   ]
  },
  {
   "cell_type": "code",
   "execution_count": null,
   "metadata": {},
   "outputs": [],
   "source": [
    "data['orderAmount'] = data['orderAmount'].cat.add_categories('unknown')"
   ]
  },
  {
   "cell_type": "code",
   "execution_count": 93,
   "metadata": {},
   "outputs": [
    {
     "data": {
      "text/plain": [
       "orderAmount\n",
       "unknown          341\n",
       "(30.0, 39.0]      98\n",
       "(39.0, 47.0]      97\n",
       "(9.999, 18.4]     96\n",
       "(18.4, 30.0]      96\n",
       "(47.0, 353.0]     91\n",
       "Name: count, dtype: int64"
      ]
     },
     "execution_count": 93,
     "metadata": {},
     "output_type": "execute_result"
    }
   ],
   "source": [
    "data['orderAmount'] = data['orderAmount'].fillna(value='unknown')\n",
    "data['orderAmount'].value_counts()"
   ]
  },
  {
   "cell_type": "code",
   "execution_count": 94,
   "metadata": {},
   "outputs": [
    {
     "data": {
      "text/html": [
       "<div>\n",
       "<style scoped>\n",
       "    .dataframe tbody tr th:only-of-type {\n",
       "        vertical-align: middle;\n",
       "    }\n",
       "\n",
       "    .dataframe tbody tr th {\n",
       "        vertical-align: top;\n",
       "    }\n",
       "\n",
       "    .dataframe thead th {\n",
       "        text-align: right;\n",
       "    }\n",
       "</style>\n",
       "<table border=\"1\" class=\"dataframe\">\n",
       "  <thead>\n",
       "    <tr style=\"text-align: right;\">\n",
       "      <th></th>\n",
       "      <th>variable</th>\n",
       "      <th>q_nan</th>\n",
       "      <th>p_nan</th>\n",
       "      <th>q_zeros</th>\n",
       "      <th>p_zeros</th>\n",
       "      <th>unique</th>\n",
       "      <th>type</th>\n",
       "    </tr>\n",
       "  </thead>\n",
       "  <tbody>\n",
       "    <tr>\n",
       "      <th>0</th>\n",
       "      <td>orderAmount</td>\n",
       "      <td>0</td>\n",
       "      <td>0.000000</td>\n",
       "      <td>0</td>\n",
       "      <td>0.000000</td>\n",
       "      <td>6</td>\n",
       "      <td>category</td>\n",
       "    </tr>\n",
       "    <tr>\n",
       "      <th>1</th>\n",
       "      <td>orderState</td>\n",
       "      <td>341</td>\n",
       "      <td>0.416361</td>\n",
       "      <td>0</td>\n",
       "      <td>0.000000</td>\n",
       "      <td>3</td>\n",
       "      <td>object</td>\n",
       "    </tr>\n",
       "    <tr>\n",
       "      <th>2</th>\n",
       "      <td>paymentMethodRegistrationFailure</td>\n",
       "      <td>477</td>\n",
       "      <td>0.582418</td>\n",
       "      <td>302</td>\n",
       "      <td>0.368742</td>\n",
       "      <td>2</td>\n",
       "      <td>object</td>\n",
       "    </tr>\n",
       "    <tr>\n",
       "      <th>3</th>\n",
       "      <td>paymentMethodType</td>\n",
       "      <td>477</td>\n",
       "      <td>0.582418</td>\n",
       "      <td>0</td>\n",
       "      <td>0.000000</td>\n",
       "      <td>4</td>\n",
       "      <td>object</td>\n",
       "    </tr>\n",
       "    <tr>\n",
       "      <th>4</th>\n",
       "      <td>paymentMethodProvider</td>\n",
       "      <td>477</td>\n",
       "      <td>0.582418</td>\n",
       "      <td>0</td>\n",
       "      <td>0.000000</td>\n",
       "      <td>10</td>\n",
       "      <td>object</td>\n",
       "    </tr>\n",
       "    <tr>\n",
       "      <th>5</th>\n",
       "      <td>paymentMethodIssuer</td>\n",
       "      <td>477</td>\n",
       "      <td>0.582418</td>\n",
       "      <td>0</td>\n",
       "      <td>0.000000</td>\n",
       "      <td>11</td>\n",
       "      <td>object</td>\n",
       "    </tr>\n",
       "    <tr>\n",
       "      <th>6</th>\n",
       "      <td>transactionAmount</td>\n",
       "      <td>0</td>\n",
       "      <td>0.000000</td>\n",
       "      <td>0</td>\n",
       "      <td>0.000000</td>\n",
       "      <td>4</td>\n",
       "      <td>category</td>\n",
       "    </tr>\n",
       "    <tr>\n",
       "      <th>7</th>\n",
       "      <td>transactionFailed</td>\n",
       "      <td>0</td>\n",
       "      <td>0.000000</td>\n",
       "      <td>609</td>\n",
       "      <td>0.743590</td>\n",
       "      <td>2</td>\n",
       "      <td>bool</td>\n",
       "    </tr>\n",
       "    <tr>\n",
       "      <th>8</th>\n",
       "      <td>fraudulent</td>\n",
       "      <td>0</td>\n",
       "      <td>0.000000</td>\n",
       "      <td>366</td>\n",
       "      <td>0.446886</td>\n",
       "      <td>2</td>\n",
       "      <td>bool</td>\n",
       "    </tr>\n",
       "    <tr>\n",
       "      <th>9</th>\n",
       "      <td>emailDomain</td>\n",
       "      <td>0</td>\n",
       "      <td>0.000000</td>\n",
       "      <td>0</td>\n",
       "      <td>0.000000</td>\n",
       "      <td>6</td>\n",
       "      <td>object</td>\n",
       "    </tr>\n",
       "    <tr>\n",
       "      <th>10</th>\n",
       "      <td>emailProvider</td>\n",
       "      <td>0</td>\n",
       "      <td>0.000000</td>\n",
       "      <td>0</td>\n",
       "      <td>0.000000</td>\n",
       "      <td>5</td>\n",
       "      <td>object</td>\n",
       "    </tr>\n",
       "    <tr>\n",
       "      <th>11</th>\n",
       "      <td>customerIPAdress_checked</td>\n",
       "      <td>0</td>\n",
       "      <td>0.000000</td>\n",
       "      <td>0</td>\n",
       "      <td>0.000000</td>\n",
       "      <td>2</td>\n",
       "      <td>object</td>\n",
       "    </tr>\n",
       "    <tr>\n",
       "      <th>12</th>\n",
       "      <td>sameCity</td>\n",
       "      <td>0</td>\n",
       "      <td>0.000000</td>\n",
       "      <td>0</td>\n",
       "      <td>0.000000</td>\n",
       "      <td>3</td>\n",
       "      <td>object</td>\n",
       "    </tr>\n",
       "  </tbody>\n",
       "</table>\n",
       "</div>"
      ],
      "text/plain": [
       "                            variable  q_nan     p_nan  q_zeros   p_zeros  \\\n",
       "0                        orderAmount      0  0.000000        0  0.000000   \n",
       "1                         orderState    341  0.416361        0  0.000000   \n",
       "2   paymentMethodRegistrationFailure    477  0.582418      302  0.368742   \n",
       "3                  paymentMethodType    477  0.582418        0  0.000000   \n",
       "4              paymentMethodProvider    477  0.582418        0  0.000000   \n",
       "5                paymentMethodIssuer    477  0.582418        0  0.000000   \n",
       "6                  transactionAmount      0  0.000000        0  0.000000   \n",
       "7                  transactionFailed      0  0.000000      609  0.743590   \n",
       "8                         fraudulent      0  0.000000      366  0.446886   \n",
       "9                        emailDomain      0  0.000000        0  0.000000   \n",
       "10                     emailProvider      0  0.000000        0  0.000000   \n",
       "11          customerIPAdress_checked      0  0.000000        0  0.000000   \n",
       "12                          sameCity      0  0.000000        0  0.000000   \n",
       "\n",
       "    unique      type  \n",
       "0        6  category  \n",
       "1        3    object  \n",
       "2        2    object  \n",
       "3        4    object  \n",
       "4       10    object  \n",
       "5       11    object  \n",
       "6        4  category  \n",
       "7        2      bool  \n",
       "8        2      bool  \n",
       "9        6    object  \n",
       "10       5    object  \n",
       "11       2    object  \n",
       "12       3    object  "
      ]
     },
     "execution_count": 94,
     "metadata": {},
     "output_type": "execute_result"
    }
   ],
   "source": [
    "status(data)"
   ]
  },
  {
   "cell_type": "markdown",
   "metadata": {},
   "source": [
    "# 5) One Hot Encoding"
   ]
  },
  {
   "cell_type": "code",
   "execution_count": 106,
   "metadata": {},
   "outputs": [],
   "source": [
    "cat = ['orderAmount','orderState', 'paymentMethodRegistrationFailure',\n",
    "                       'paymentMethodType', \n",
    "                       'paymentMethodProvider',\n",
    "                       'paymentMethodIssuer',\n",
    "                       'emailDomain',\n",
    "                       'emailProvider',\n",
    "                       'customerIPAdress_checked',\n",
    "                       'sameCity']\n",
    "\n",
    "\n",
    "data_encoded = pd.get_dummies(data[cat])"
   ]
  },
  {
   "cell_type": "code",
   "execution_count": 107,
   "metadata": {},
   "outputs": [],
   "source": [
    "others = ['transactionAmount', 'transactionFailed', 'fraudulent']\n",
    "data_ohe = pd.concat([data[others], data_encoded], axis=1)"
   ]
  },
  {
   "cell_type": "code",
   "execution_count": 108,
   "metadata": {},
   "outputs": [],
   "source": [
    "data_ohe_without_fraudulent = data_ohe.drop([\"fraudulent\"], axis=1)"
   ]
  },
  {
   "cell_type": "code",
   "execution_count": 113,
   "metadata": {},
   "outputs": [
    {
     "data": {
      "text/plain": [
       "Index(['transactionAmount', 'transactionFailed', 'orderAmount_(9.999, 18.4]',\n",
       "       'orderAmount_(18.4, 30.0]', 'orderAmount_(30.0, 39.0]',\n",
       "       'orderAmount_(39.0, 47.0]', 'orderAmount_(47.0, 353.0]',\n",
       "       'orderAmount_unknown', 'orderState_failed', 'orderState_fulfilled',\n",
       "       'orderState_pending', 'paymentMethodRegistrationFailure_False',\n",
       "       'paymentMethodRegistrationFailure_True', 'paymentMethodType_apple pay',\n",
       "       'paymentMethodType_bitcoin', 'paymentMethodType_card',\n",
       "       'paymentMethodType_paypal', 'paymentMethodProvider_American Express',\n",
       "       'paymentMethodProvider_Diners Club / Carte Blanche',\n",
       "       'paymentMethodProvider_Discover', 'paymentMethodProvider_JCB 15 digit',\n",
       "       'paymentMethodProvider_JCB 16 digit', 'paymentMethodProvider_Maestro',\n",
       "       'paymentMethodProvider_Mastercard',\n",
       "       'paymentMethodProvider_VISA 13 digit',\n",
       "       'paymentMethodProvider_VISA 16 digit', 'paymentMethodProvider_Voyager',\n",
       "       'paymentMethodIssuer_Bastion Banks',\n",
       "       'paymentMethodIssuer_Bulwark Trust Corp.',\n",
       "       'paymentMethodIssuer_Citizens First Banks',\n",
       "       'paymentMethodIssuer_Fountain Financial Inc.',\n",
       "       'paymentMethodIssuer_Grand Credit Corporation',\n",
       "       'paymentMethodIssuer_Her Majesty Trust',\n",
       "       'paymentMethodIssuer_His Majesty Bank Corp.',\n",
       "       'paymentMethodIssuer_Rose Bancshares',\n",
       "       'paymentMethodIssuer_Solace Banks',\n",
       "       'paymentMethodIssuer_Vertex Bancorp', 'paymentMethodIssuer_weird',\n",
       "       'emailDomain_biz', 'emailDomain_com', 'emailDomain_info',\n",
       "       'emailDomain_net', 'emailDomain_org', 'emailDomain_weird',\n",
       "       'emailProvider_gmail', 'emailProvider_hotmail', 'emailProvider_other',\n",
       "       'emailProvider_weird', 'emailProvider_yahoo',\n",
       "       'customerIPAdress_checked_long_address',\n",
       "       'customerIPAdress_checked_short_address', 'sameCity_no',\n",
       "       'sameCity_unknown', 'sameCity_yes'],\n",
       "      dtype='object')"
      ]
     },
     "execution_count": 113,
     "metadata": {},
     "output_type": "execute_result"
    }
   ],
   "source": [
    "data_ohe_without_fraudulent.columns"
   ]
  },
  {
   "cell_type": "code",
   "execution_count": 109,
   "metadata": {},
   "outputs": [],
   "source": [
    "# Guardar las columnas de OHE para utilizar mas adelante\n",
    "with open('../data/categories_ohe_without_fraudulent.pickle', 'wb') as handle:\n",
    "    pickle.dump(data_ohe_without_fraudulent.columns, handle, protocol=pickle.HIGHEST_PROTOCOL)"
   ]
  },
  {
   "cell_type": "markdown",
   "metadata": {},
   "source": [
    "# 6) Dataset Encoded"
   ]
  },
  {
   "cell_type": "code",
   "execution_count": 115,
   "metadata": {},
   "outputs": [],
   "source": [
    "filename = \"../data/ohe_customer_dataset.csv\"\n",
    "data_ohe.to_csv(filename, index = False)"
   ]
  }
 ],
 "metadata": {
  "kernelspec": {
   "display_name": "env",
   "language": "python",
   "name": "python3"
  },
  "language_info": {
   "codemirror_mode": {
    "name": "ipython",
    "version": 3
   },
   "file_extension": ".py",
   "mimetype": "text/x-python",
   "name": "python",
   "nbconvert_exporter": "python",
   "pygments_lexer": "ipython3",
   "version": "3.10.11"
  }
 },
 "nbformat": 4,
 "nbformat_minor": 2
}
